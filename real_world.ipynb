{
 "cells": [
  {
   "cell_type": "code",
   "execution_count": null,
   "metadata": {},
   "outputs": [],
   "source": [
    "%load_ext autoreload\n",
    "%autoreload 2\n",
    "import numpy as np\n",
    "import itertools as it\n",
    "import lingam\n",
    "from LOVO_via_parent_adjustment import edge_might_exist, lovo_comparison\n",
    "from extended_pywhy_graphs import ExtendedADMG\n",
    "from pandarallel import pandarallel\n",
    "import pandas as pd\n",
    "import random"
   ]
  },
  {
   "cell_type": "markdown",
   "metadata": {},
   "source": [
    "### LOVO for Grace Data and \"ground truth\" graph"
   ]
  },
  {
   "cell_type": "code",
   "execution_count": null,
   "metadata": {},
   "outputs": [],
   "source": [
    "data_grace = pd.read_csv('real_world_data/Grace_et_al_plot_level.csv')\n",
    "data_grace = data_grace[[\"ln.site.rich\", \"ln.site.totmass\", \"ln.site.prod\", \"ln.prich\", \"ln.pshade\", \"ln.ptotmass\", \"ln.pprod\", \"SoilSuitability\"]]\n",
    "\n",
    "true_bidirected_edges=[('ln.site.rich', 'ln.site.prod'), ('ln.site.rich', 'ln.site.totmass')],\n",
    "true_directed_edges=[('ln.site.prod', 'ln.site.totmass'),\n",
    "    ('ln.site.totmass', 'ln.site.rich'),\n",
    "    ('ln.site.rich', 'ln.site.prod'),\n",
    "    ('SoilSuitability', 'ln.prich'),\n",
    "    ('SoilSuitability', 'ln.site.rich'),\n",
    "    ('ln.site.rich', 'ln.prich'),\n",
    "    ('ln.site.prod', 'ln.pprod'),\n",
    "    ('ln.site.totmass', 'ln.ptotmass'),\n",
    "    ('ln.prich', 'ln.ptotmass'),\n",
    "    ('ln.ptotmass', 'ln.pshade'),\n",
    "    ('ln.pshade', 'ln.prich'),\n",
    "    ('ln.prich', 'ln.pprod')]\n",
    "\n",
    "dict = {name: i for i, name in enumerate(data_grace.columns)}\n",
    "true_bidirected_edges = [(dict[i], dict[j]) for (i, j) in true_bidirected_edges]    \n",
    "true_directed_edges = [(dict[i], dict[j]) for (i, j) in true_directed_edges]\n",
    "\n",
    "true_graph_grace = ExtendedADMG(incoming_nodes = set(range(8)), E_bidir = true_bidirected_edges, E_dir = true_directed_edges)\n",
    "true_graphs_without_i = {i: true_graph_grace.project_to_GX(i) for i in range(8)}\n",
    "all_pairs = list(it.combinations(range(8), 2))\n",
    "data_val = data_grace.copy()\n",
    "data_val.columns = range(8)\n",
    "lovo_errors, baseline_errors = zip(*[lovo_comparison(X, Y, true_graphs_without_i[Y], true_graphs_without_i[X], data_val, 'Lemma_2') for (X, Y) in all_pairs])\n",
    "np.nanmean(np.array(lovo_errors)), np.nanmean(np.array(baseline_errors))"
   ]
  },
  {
   "cell_type": "markdown",
   "metadata": {},
   "source": [
    "### LOVO for Sachs Data and \"ground truth\" graph"
   ]
  },
  {
   "cell_type": "code",
   "execution_count": null,
   "metadata": {},
   "outputs": [],
   "source": [
    "from cdt.data import load_dataset\n",
    "s_data, s_graph_nx = load_dataset(\"sachs\")\n",
    "import networkx as nx\n",
    "nx.draw(s_graph_nx, with_labels=True)"
   ]
  },
  {
   "cell_type": "code",
   "execution_count": null,
   "metadata": {},
   "outputs": [],
   "source": [
    "# s_graph has different ordering of variables compared to s_data\n",
    "s_data.rename(columns={name: i for i, name in enumerate(s_graph_nx.nodes)}, inplace=True)\n",
    "\n",
    "adj_matrix = nx.to_numpy_array(s_graph_nx).T\n",
    "true_graph = ExtendedADMG.from_RCD_adjacency_matrix(adj_matrix)\n",
    "true_graphs_without_i = {i: true_graph.project_to_GX(i) for i in range(8)}\n",
    "all_pairs = list(it.combinations(range(8), 2))\n",
    "data_val = s_data[:int(7466/2)]\n",
    "lovo_errors, baseline_errors = zip(*[lovo_comparison(X, Y, true_graphs_without_i[Y], true_graphs_without_i[X], data_val, 'Lemma_2') for (X, Y) in all_pairs])\n",
    "np.nanmean(np.array(lovo_errors)), np.nanmean(np.array(baseline_errors))"
   ]
  },
  {
   "cell_type": "markdown",
   "metadata": {},
   "source": [
    "### Fit using DirectLiNGAM, RCD"
   ]
  },
  {
   "cell_type": "code",
   "execution_count": null,
   "metadata": {},
   "outputs": [],
   "source": [
    "def compute_CV_errors(data, setting):\n",
    "    n, nr_nodes = data.shape\n",
    "    n_learn = int(n/2) \n",
    "    if n_learn < 1000:\n",
    "        data_learn, data_val = data, data\n",
    "    else:\n",
    "        data_learn, data_val = data[:n_learn], data[n_learn:] \n",
    "    \n",
    "    learned_graphs_without_i = {}\n",
    "    for X in range(nr_nodes):\n",
    "        data_without_X = np.delete(data_learn, X, axis=1)\n",
    "        model = lingam.RCD() if setting == 'RCD' else lingam.DirectLiNGAM()\n",
    "        model.fit(data_without_X)\n",
    "        adj_matrix = model.adjacency_matrix_\n",
    "        # Insert zeros such that indices (and therefore the names of the nodes in the graph) match the original indices in data\n",
    "        adj_matrix_expanded = np.insert(adj_matrix, X, 0, axis=0)  \n",
    "        adj_matrix_expanded = np.insert(adj_matrix_expanded, X, 0, axis=1)\n",
    "        learned_graphs_without_i[X] = ExtendedADMG.from_RCD_adjacency_matrix(adj_matrix_expanded)\n",
    "\n",
    "    all_pairs = list(it.combinations(range(nr_nodes), 2))\n",
    "    data_val.columns = range(nr_nodes)\n",
    "    lovo_errors, baseline_errors = zip(*[lovo_comparison(X, Y, learned_graphs_without_i[Y], learned_graphs_without_i[X], data_val.copy(), 'Lemma_2' if setting == 'RCD' else 'Lemma_4') for (X, Y) in all_pairs])\n",
    "    return lovo_errors, baseline_errors\n",
    "\n",
    "for data in [s_data, data_grace]:\n",
    "    data = (data - data.mean()) / data.std()\n",
    "    for setting in ['DirectLiNGAM', 'RCD']:\n",
    "        lovo_errors, baseline_errors = compute_CV_errors(data, setting)\n",
    "        print(f'For {setting}, LOVO loss is {np.nanmean(np.array(lovo_errors))} and baseline loss is {np.nanmean(np.array(baseline_errors))}')"
   ]
  }
 ],
 "metadata": {
  "kernelspec": {
   "display_name": ".venv",
   "language": "python",
   "name": "python3"
  },
  "language_info": {
   "codemirror_mode": {
    "name": "ipython",
    "version": 3
   },
   "file_extension": ".py",
   "mimetype": "text/x-python",
   "name": "python",
   "nbconvert_exporter": "python",
   "pygments_lexer": "ipython3",
   "version": "3.12.0"
  }
 },
 "nbformat": 4,
 "nbformat_minor": 2
}
